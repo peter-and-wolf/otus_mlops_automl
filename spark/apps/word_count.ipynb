{
 "cells": [
  {
   "cell_type": "code",
   "execution_count": 1,
   "metadata": {},
   "outputs": [],
   "source": [
    "from pyspark.sql.functions import explode, split, col\n",
    "from pyspark.sql import SparkSession"
   ]
  },
  {
   "cell_type": "code",
   "execution_count": 2,
   "metadata": {},
   "outputs": [
    {
     "name": "stderr",
     "output_type": "stream",
     "text": [
      "Setting default log level to \"WARN\".\n",
      "To adjust logging level use sc.setLogLevel(newLevel). For SparkR, use setLogLevel(newLevel).\n",
      "24/08/27 11:39:46 WARN NativeCodeLoader: Unable to load native-hadoop library for your platform... using builtin-java classes where applicable\n"
     ]
    }
   ],
   "source": [
    "spark = SparkSession.builder.appName(\n",
    "    \"Analyzing the vocabulary of Pride and Prejudice.\"\n",
    ").getOrCreate()\n",
    "\n",
    "df = spark.read.text(\"/opt/spark/data/anna-on-the-neck.txt\")\n",
    "\n",
    "df_count=(\n",
    "  df.withColumn('word', explode(split(col('value'), ' ')))\n",
    "    .groupBy('word')\n",
    "    .count()\n",
    "    .sort('count', ascending=False)\n",
    ")"
   ]
  },
  {
   "cell_type": "code",
   "execution_count": 4,
   "metadata": {},
   "outputs": [
    {
     "name": "stderr",
     "output_type": "stream",
     "text": [
      "                                                                                \r"
     ]
    },
    {
     "data": {
      "text/plain": [
       "[Row(word='и', count=228),\n",
       " Row(word='в', count=103),\n",
       " Row(word='', count=100),\n",
       " Row(word='на', count=78),\n",
       " Row(word='с', count=63),\n",
       " Row(word='не', count=62),\n",
       " Row(word='что', count=54),\n",
       " Row(word='она', count=50),\n",
       " Row(word='он', count=38),\n",
       " Row(word='ее', count=37),\n",
       " Row(word='как', count=34),\n",
       " Row(word='его', count=29),\n",
       " Row(word='уже', count=28),\n",
       " Row(word='а', count=27),\n",
       " Row(word='у', count=25),\n",
       " Row(word='за', count=22),\n",
       " Row(word='было', count=20),\n",
       " Row(word='к', count=19),\n",
       " Row(word='Аня', count=18),\n",
       " Row(word='нее', count=17),\n",
       " Row(word='Модест', count=16),\n",
       " Row(word='ей', count=16),\n",
       " Row(word='от', count=16),\n",
       " Row(word='о', count=15),\n",
       " Row(word='то', count=14),\n",
       " Row(word='но', count=14),\n",
       " Row(word='по', count=14),\n",
       " Row(word='когда', count=14),\n",
       " Row(word='—', count=13),\n",
       " Row(word='так', count=13),\n",
       " Row(word='же', count=13),\n",
       " Row(word='ни', count=13),\n",
       " Row(word='теперь', count=12),\n",
       " Row(word='Она', count=12),\n",
       " Row(word='А', count=10),\n",
       " Row(word='это', count=10),\n",
       " Row(word='И', count=10),\n",
       " Row(word='очень', count=9),\n",
       " Row(word='Петр', count=9),\n",
       " Row(word='под', count=9),\n",
       " Row(word='Алексеич', count=9),\n",
       " Row(word='своей', count=9),\n",
       " Row(word='только', count=9),\n",
       " Row(word='из', count=9),\n",
       " Row(word='Когда', count=9),\n",
       " Row(word='чтобы', count=9),\n",
       " Row(word='или', count=8),\n",
       " Row(word='всё', count=8),\n",
       " Row(word='ней', count=8),\n",
       " Row(word='него', count=8)]"
      ]
     },
     "execution_count": 4,
     "metadata": {},
     "output_type": "execute_result"
    }
   ],
   "source": [
    "df_count.head(n=50)"
   ]
  },
  {
   "cell_type": "code",
   "execution_count": null,
   "metadata": {},
   "outputs": [],
   "source": []
  }
 ],
 "metadata": {
  "kernelspec": {
   "display_name": "Python 3 (ipykernel)",
   "language": "python",
   "name": "python3"
  },
  "language_info": {
   "codemirror_mode": {
    "name": "ipython",
    "version": 3
   },
   "file_extension": ".py",
   "mimetype": "text/x-python",
   "name": "python",
   "nbconvert_exporter": "python",
   "pygments_lexer": "ipython3",
   "version": "3.12.5"
  }
 },
 "nbformat": 4,
 "nbformat_minor": 4
}
